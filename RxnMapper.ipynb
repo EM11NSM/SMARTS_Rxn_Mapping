{
 "cells": [
  {
   "cell_type": "markdown",
   "id": "a05fb857-dc46-40be-a804-7c1e31224c75",
   "metadata": {},
   "source": [
    "## RxnMapper ##"
   ]
  },
  {
   "cell_type": "code",
   "execution_count": null,
   "id": "9140f083-f9d7-4b81-a72c-ff5dc568891a",
   "metadata": {},
   "outputs": [],
   "source": [
    "#A tool to generate reaction SMARTS for a reaction given two reactants and a product"
   ]
  },
  {
   "cell_type": "markdown",
   "id": "8b06b79e-e0e4-48c4-8791-2d238da72877",
   "metadata": {},
   "source": [
    "### Acknowledgements ###"
   ]
  },
  {
   "cell_type": "code",
   "execution_count": null,
   "id": "69ad5380-0416-484e-81b4-3978b427d603",
   "metadata": {},
   "outputs": [],
   "source": [
    "#Please see the original article published by OPIG: https://www.blopig.com/blog/2024/01/finding-and-testing-a-reaction-smarts-pattern-for-any-reaction/ "
   ]
  },
  {
   "cell_type": "code",
   "execution_count": null,
   "id": "382e2eb4-1c4e-4aca-944c-4b036c4f0d04",
   "metadata": {},
   "outputs": [],
   "source": [
    "#Please check out the tools that were used for this script\n",
    "#RXNutils: https://molecularai.github.io/reaction_utils/\n",
    "#RXNmapper: https://github.com/rxn4chemistry/rxnmapper\n",
    "#RDKit: https://github.com/rdkit/rdkit"
   ]
  },
  {
   "cell_type": "code",
   "execution_count": null,
   "id": "bbc1c0a4-0125-4688-804d-41b581fcab58",
   "metadata": {},
   "outputs": [],
   "source": [
    "!pip install reaction-utils rxnmapper rdkit"
   ]
  },
  {
   "cell_type": "code",
   "execution_count": null,
   "id": "99178133-abe6-4462-b9c6-bc07302cb296",
   "metadata": {},
   "outputs": [],
   "source": [
    "from rxnutils.chem.reaction import ChemicalReaction\n",
    "from rxnmapper import RXNMapper\n",
    "from rdkit import Chem\n",
    "from rdkit.Chem import AllChem, DataStructs, Draw\n",
    "import warnings\n",
    "warnings.filterwarnings('ignore')"
   ]
  },
  {
   "cell_type": "code",
   "execution_count": null,
   "id": "8a9bd41d-5aed-484e-a5fb-f5d63d7697b1",
   "metadata": {},
   "outputs": [],
   "source": [
    "#Replace the strings SMILES_1, SMILES_2 and SMILES_3 with your own."
   ]
  },
  {
   "cell_type": "code",
   "execution_count": null,
   "id": "37db2d49-b4d5-40f1-b6a2-cf013de63475",
   "metadata": {},
   "outputs": [],
   "source": [
    "reactant1 = Chem.MolFromSmiles('SMILES_1')\n",
    "reactant2 = Chem.MolFromSmiles('SMILES_2')\n",
    "product = Chem.MolFromSmiles('SMILES_3')\n",
    "captions = ['Reactant 1', 'Reactant 2', 'Product']\n",
    "Draw.MolsToGridImage([reactant1, reactant2, product], molsPerRow=3, subImgSize=(300,300), legends=captions)"
   ]
  },
  {
   "cell_type": "code",
   "execution_count": null,
   "id": "0038712d-c257-48e0-b9d5-9cacaf91db36",
   "metadata": {},
   "outputs": [],
   "source": [
    "reactants =[reactant1, reactant2 ]\n",
    "reactants"
   ]
  },
  {
   "cell_type": "code",
   "execution_count": null,
   "id": "5b7b4c5e-59a6-47d2-9e06-6d4e20de60f8",
   "metadata": {},
   "outputs": [],
   "source": [
    "def make_rxn_template(reactants: list, product: Chem.Mol, radius=1):\n",
    "    reactants = [Chem.MolToSmiles(reactant) for reactant in reactants]\n",
    "    product = Chem.MolToSmiles(product)\n",
    "    reaction = f\"{reactants[0]}.{reactants[1]}>>{product}\"\n",
    "    rxnmapper = RXNMapper()\n",
    "    res = rxnmapper.get_attention_guided_atom_maps([reaction])[0]\n",
    "    rxn = ChemicalReaction(res['mapped_rxn'])\n",
    "    mapping = rxn.generate_reaction_template(radius=radius, expand_ring=False, expand_hetero=False)\n",
    "    forward_template = mapping[0].smarts\n",
    "    return forward_template"
   ]
  },
  {
   "cell_type": "code",
   "execution_count": null,
   "id": "9420a305-b53e-4a6d-99e0-7d913a181ccc",
   "metadata": {},
   "outputs": [],
   "source": [
    "Rxn_SMARTS = make_rxn_template(reactants, product, radius=1)\n",
    "print(Rxn_SMARTS)"
   ]
  },
  {
   "cell_type": "code",
   "execution_count": null,
   "id": "e2e6a068-edc8-4ddd-ac4e-06db0ee55731",
   "metadata": {},
   "outputs": [],
   "source": []
  }
 ],
 "metadata": {
  "kernelspec": {
   "display_name": "Python 3 (ipykernel)",
   "language": "python",
   "name": "python3"
  },
  "language_info": {
   "codemirror_mode": {
    "name": "ipython",
    "version": 3
   },
   "file_extension": ".py",
   "mimetype": "text/x-python",
   "name": "python",
   "nbconvert_exporter": "python",
   "pygments_lexer": "ipython3",
   "version": "3.12.4"
  }
 },
 "nbformat": 4,
 "nbformat_minor": 5
}
